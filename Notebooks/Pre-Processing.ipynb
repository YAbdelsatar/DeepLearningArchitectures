{
 "cells": [
  {
   "cell_type": "markdown",
   "metadata": {},
   "source": [
    "https://haythamfayek.com/2016/04/21/speech-processing-for-machine-learning.html"
   ]
  },
  {
   "cell_type": "code",
   "execution_count": 85,
   "metadata": {},
   "outputs": [
    {
     "data": {
      "text/html": [
       "<div>\n",
       "<style scoped>\n",
       "    .dataframe tbody tr th:only-of-type {\n",
       "        vertical-align: middle;\n",
       "    }\n",
       "\n",
       "    .dataframe tbody tr th {\n",
       "        vertical-align: top;\n",
       "    }\n",
       "\n",
       "    .dataframe thead th {\n",
       "        text-align: right;\n",
       "    }\n",
       "</style>\n",
       "<table border=\"1\" class=\"dataframe\">\n",
       "  <thead>\n",
       "    <tr style=\"text-align: right;\">\n",
       "      <th></th>\n",
       "      <th>VGGFace1 ID</th>\n",
       "      <th>Gender</th>\n",
       "      <th>Nationality</th>\n",
       "      <th>Set</th>\n",
       "    </tr>\n",
       "    <tr>\n",
       "      <th>VoxCeleb1 ID</th>\n",
       "      <th></th>\n",
       "      <th></th>\n",
       "      <th></th>\n",
       "      <th></th>\n",
       "    </tr>\n",
       "  </thead>\n",
       "  <tbody>\n",
       "    <tr>\n",
       "      <th>id10001</th>\n",
       "      <td>A.J._Buckley</td>\n",
       "      <td>m</td>\n",
       "      <td>Ireland</td>\n",
       "      <td>dev</td>\n",
       "    </tr>\n",
       "    <tr>\n",
       "      <th>id10002</th>\n",
       "      <td>A.R._Rahman</td>\n",
       "      <td>m</td>\n",
       "      <td>India</td>\n",
       "      <td>dev</td>\n",
       "    </tr>\n",
       "    <tr>\n",
       "      <th>id10003</th>\n",
       "      <td>Aamir_Khan</td>\n",
       "      <td>m</td>\n",
       "      <td>India</td>\n",
       "      <td>dev</td>\n",
       "    </tr>\n",
       "    <tr>\n",
       "      <th>id10004</th>\n",
       "      <td>Aaron_Tveit</td>\n",
       "      <td>m</td>\n",
       "      <td>USA</td>\n",
       "      <td>dev</td>\n",
       "    </tr>\n",
       "    <tr>\n",
       "      <th>id10005</th>\n",
       "      <td>Aaron_Yoo</td>\n",
       "      <td>m</td>\n",
       "      <td>USA</td>\n",
       "      <td>dev</td>\n",
       "    </tr>\n",
       "  </tbody>\n",
       "</table>\n",
       "</div>"
      ],
      "text/plain": [
       "               VGGFace1 ID Gender Nationality  Set\n",
       "VoxCeleb1 ID                                      \n",
       "id10001       A.J._Buckley      m     Ireland  dev\n",
       "id10002        A.R._Rahman      m       India  dev\n",
       "id10003         Aamir_Khan      m       India  dev\n",
       "id10004        Aaron_Tveit      m         USA  dev\n",
       "id10005          Aaron_Yoo      m         USA  dev"
      ]
     },
     "execution_count": 85,
     "metadata": {},
     "output_type": "execute_result"
    }
   ],
   "source": [
    "import pandas as pd\n",
    "import numpy as np\n",
    "import matplotlib.pyplot as plt\n",
    "import os\n",
    "import math\n",
    "from scipy.io import wavfile\n",
    "from scipy.ndimage.interpolation import shift\n",
    "from scipy.signal import hamming\n",
    "\n",
    "data = pd.read_csv(\"../../Dataset/vox1_meta.csv\", delimiter = '\\t', index_col = \"VoxCeleb1 ID\")\n",
    "\n",
    "data.head()"
   ]
  },
  {
   "cell_type": "code",
   "execution_count": 86,
   "metadata": {},
   "outputs": [],
   "source": [
    "dev_loc = \"../../Dataset/vox1_dev_wav/vox1_dev_wav/wav\""
   ]
  },
  {
   "cell_type": "code",
   "execution_count": 87,
   "metadata": {},
   "outputs": [],
   "source": [
    "sample_wav_file = wavfile.read(os.path.join(dev_loc, 'id10001/1zcIwhmdeo4/00002' + '.wav'))"
   ]
  },
  {
   "cell_type": "code",
   "execution_count": 88,
   "metadata": {},
   "outputs": [],
   "source": [
    "def apply_preemphasis(wav_file, alpha):\n",
    "    amplitudes = np.array(wav_file[1])\n",
    "    shifted = shift(amplitudes, 1, cval=0)\n",
    "    return (wav_file[0], amplitudes - alpha * shifted)"
   ]
  },
  {
   "cell_type": "code",
   "execution_count": 82,
   "metadata": {},
   "outputs": [],
   "source": [
    "def apply_windowing(wav_file, window_size=3, keep_remainder=False):\n",
    "    amplitudes = np.array(wav_file[1])\n",
    "    sample_rate = wav_file[0]\n",
    "    sub_arrays = np.split(amplitudes, range(0,len(amplitudes), sample_rate * window_size)[1:])\n",
    "    if keep_remainder:\n",
    "        return sub_arrays\n",
    "    elif len(sub_arrays[-1]) == sample_rate * window_size:\n",
    "        return sub_arrays\n",
    "    else:\n",
    "        return sub_arrays[:-1]"
   ]
  },
  {
   "cell_type": "code",
   "execution_count": 89,
   "metadata": {},
   "outputs": [
    {
     "name": "stdout",
     "output_type": "stream",
     "text": [
      "[455.68       319.92001576 266.80005257 ... 584.48011518 647.20003188\n",
      " 593.2       ]\n",
      "[546.96       453.68002235 284.32005603 ... 210.72004152 192.8000095\n",
      "  18.4       ]\n"
     ]
    }
   ],
   "source": [
    "def apply_hamming(signal_vector, size):\n",
    "    return signal_vector * hamming(size)\n",
    "\n",
    "for subs in apply_windowing(sample_wav_file):\n",
    "    print(apply_hamming(subs, sample_wav_file[0] * 3))"
   ]
  },
  {
   "cell_type": "code",
   "execution_count": null,
   "metadata": {},
   "outputs": [],
   "source": [
    "low_freq_mel = 0\n",
    "high_freq_mel = (2595 * np.log10(1+(sample_rate/2)/700))\n",
    "mel_points = np.linspace(low_freq_mel, high_freq_mel, nfilt + 2)\n",
    "hz_points = (700 * (10**(mel_points/2595) - 1))\n",
    "bin = np.floor((NFFT + 1) * hz_points / sample_rate)\n",
    "\n",
    "fbank = np.zeros((nfilt, int(np.floor(NFFT /2 + 1))))\n",
    "for m in range(1, nfilt + 1):\n",
    "    f_m_minus = int(bin[m - 1])"
   ]
  }
 ],
 "metadata": {
  "kernelspec": {
   "display_name": "Python 3",
   "language": "python",
   "name": "python3"
  },
  "language_info": {
   "codemirror_mode": {
    "name": "ipython",
    "version": 3
   },
   "file_extension": ".py",
   "mimetype": "text/x-python",
   "name": "python",
   "nbconvert_exporter": "python",
   "pygments_lexer": "ipython3",
   "version": "3.7.6"
  }
 },
 "nbformat": 4,
 "nbformat_minor": 4
}
